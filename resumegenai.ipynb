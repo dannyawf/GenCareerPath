{
 "cells": [
  {
   "cell_type": "markdown",
   "id": "4fdc463f",
   "metadata": {
    "papermill": {
     "duration": 0.002967,
     "end_time": "2025-04-09T01:59:15.918859",
     "exception": false,
     "start_time": "2025-04-09T01:59:15.915892",
     "status": "completed"
    },
    "tags": []
   },
   "source": [
    "# 💼 GenCareerPath 1.0 – Career Path Advisor\n",
    "\n",
    "This notebook is the Capstone Project for the GenAI Intensive Course with Google.\n",
    "\n",
    "**GenCareerPath 1.0** uses a Generative AI model (`gemini-2.0-flash`) to analyze a candidate's resume and suggest realistic or aspirational career paths based on the profile. It simulates the role of a career advisor enhanced by generative capabilities.\n",
    "\n",
    "---\n",
    "\n",
    "## 🎯 Objective\n",
    "\n",
    "To demonstrate multiple GenAI capabilities in a practical, real-world application:\n",
    "- Extract structured data from unstructured resume text\n",
    "- Recommend personalized career directions\n",
    "- Match user profiles to roles with explanation and skill development suggestions\n",
    "\n",
    "---\n",
    "\n",
    "## ✅ GenAI Capabilities Demonstrated\n",
    "- Prompt-based information extraction\n",
    "- Structured output (JSON formatting)\n",
    "- Reasoning and content generation based on context\n",
    "\n",
    "---\n",
    "\n",
    "## 🔧 Technologies\n",
    "- Google Generative AI SDK (`google-generativeai`)\n",
    "- Gemini 2.0 Flash model (`models/gemini-2.0-flash`)\n",
    "- Kaggle Secrets for secure API usage"
   ]
  },
  {
   "cell_type": "markdown",
   "id": "8fe6c57f",
   "metadata": {
    "papermill": {
     "duration": 0.002065,
     "end_time": "2025-04-09T01:59:15.923623",
     "exception": false,
     "start_time": "2025-04-09T01:59:15.921558",
     "status": "completed"
    },
    "tags": []
   },
   "source": [
    "## 🛠️ Step 0 - Setup\n",
    "\n",
    "## 🔐 API Key Configuration (Required)\n",
    "\n",
    "To run this notebook, you **must add your Google Generative AI API key** using the Kaggle Secrets manager.\n",
    "\n",
    "---\n",
    "\n",
    "### 📌 Steps:\n",
    "\n",
    "1. Go to the **right sidebar** → click on **\"Add-ons\" → \"Secrets\"**\n",
    "2. Create a new secret with the following:\n",
    "\n",
    "- **Name**: `GOOGLE_API_KEY`  *(must match exactly)*\n",
    "- **Value**: Your actual API key from Google Generative AI\n",
    "\n",
    "---\n",
    "\n",
    "> ⚠️ **If the API key is missing, the notebook will fail to connect to the model.**\n",
    "\n",
    "---\n",
    "\n",
    "### ✅ Referenced Code Snippet\n",
    "\n",
    "```python\n",
    "from kaggle_secrets import UserSecretsClient\n",
    "GOOGLE_API_KEY = UserSecretsClient().get_secret(\"GOOGLE_API_KEY\")"
   ]
  },
  {
   "cell_type": "code",
   "execution_count": 1,
   "id": "39f0defe",
   "metadata": {
    "execution": {
     "iopub.execute_input": "2025-04-09T01:59:15.929582Z",
     "iopub.status.busy": "2025-04-09T01:59:15.929201Z",
     "iopub.status.idle": "2025-04-09T01:59:43.305396Z",
     "shell.execute_reply": "2025-04-09T01:59:43.303671Z"
    },
    "papermill": {
     "duration": 27.382438,
     "end_time": "2025-04-09T01:59:43.308372",
     "exception": false,
     "start_time": "2025-04-09T01:59:15.925934",
     "status": "completed"
    },
    "tags": []
   },
   "outputs": [
    {
     "name": "stdout",
     "output_type": "stream",
     "text": [
      "\u001b[2K   \u001b[90m━━━━━━━━━━━━━━━━━━━━━━━━━━━━━━━━━━━━━━━━\u001b[0m \u001b[32m175.4/175.4 kB\u001b[0m \u001b[31m5.1 MB/s\u001b[0m eta \u001b[36m0:00:00\u001b[0m\r\n",
      "\u001b[2K   \u001b[90m━━━━━━━━━━━━━━━━━━━━━━━━━━━━━━━━━━━━━━━━\u001b[0m \u001b[32m1.3/1.3 MB\u001b[0m \u001b[31m27.0 MB/s\u001b[0m eta \u001b[36m0:00:00\u001b[0m\r\n",
      "\u001b[?25h"
     ]
    }
   ],
   "source": [
    "!pip install -q --upgrade google-generativeai\n",
    "\n",
    "import google.generativeai as genai\n",
    "from kaggle_secrets import UserSecretsClient\n",
    "from IPython.display import Markdown, HTML, display\n",
    "import json\n",
    "\n",
    "# Setup API key and model\n",
    "GOOGLE_API_KEY = UserSecretsClient().get_secret(\"GOOGLE_API_KEY\")\n",
    "genai.configure(api_key=GOOGLE_API_KEY)\n",
    "model = genai.GenerativeModel(\"models/gemini-2.0-flash\")"
   ]
  },
  {
   "cell_type": "markdown",
   "id": "67dcf234",
   "metadata": {
    "papermill": {
     "duration": 0.002835,
     "end_time": "2025-04-09T01:59:43.314659",
     "exception": false,
     "start_time": "2025-04-09T01:59:43.311824",
     "status": "completed"
    },
    "tags": []
   },
   "source": [
    "## 📋 Step 1 - Paste Your Resume\n",
    "\n",
    "Please paste your resume in the text area below **before running any code**.\n",
    "\n",
    "If you leave it empty, the default sample resume will be used for demonstration purposes.\n",
    "\n",
    "👉 Once you've pasted your resume, run the next cells to begin the analysis.\n",
    "\n",
    "## 📚 Example Resumes\n",
    "\n",
    "You can copy and paste any of the following resumes into the input field above to test the ResumeGenAI assistant.  \n",
    "Each resume represents a different role and background.\n",
    "\n",
    "---\n",
    "\n",
    "### 🧠 GenAI Engineer\n",
    "\n",
    "Generative AI Engineer with 5+ years experience in machine learning and NLP.\n",
    "Worked with LLMs, prompt engineering, and fine-tuning techniques using TensorFlow and JAX.\n",
    "Built internal RAG tools using vector databases and document embeddings.\n",
    "Deployed multi-modal models for enterprise search, chatbot integration, and evaluation pipelines.\n",
    "Familiar with Vertex AI, LangChain, and API-based orchestration for agent workflows.\n",
    "\n",
    "---\n",
    "\n",
    "### 🎨 UX Designer\n",
    "\n",
    "Senior UX Designer with 8+ years experience in user-centered design.\n",
    "Led end-to-end product design for fintech and e-commerce platforms.\n",
    "Skilled in Figma, design systems, and user research methodologies.\n",
    "Delivered responsive prototypes, A/B tests, and UX writing standards.\n",
    "Passionate about accessibility, product strategy, and mentoring junior designers.\n",
    "\n",
    "---\n",
    "\n",
    "### 📊 Data Scientist\n",
    "\n",
    "Data Scientist with 6+ years experience in predictive modeling and analytics.\n",
    "Specialized in Python, pandas, scikit-learn, and PyTorch.\n",
    "Built real-time dashboards, classification models, and business intelligence workflows.\n",
    "Worked with stakeholders to translate data into product insights.\n",
    "Strong communication, experimentation, and statistical modeling background.\n"
   ]
  },
  {
   "cell_type": "code",
   "execution_count": 2,
   "id": "6cc6eee7",
   "metadata": {
    "execution": {
     "iopub.execute_input": "2025-04-09T01:59:43.323170Z",
     "iopub.status.busy": "2025-04-09T01:59:43.322213Z",
     "iopub.status.idle": "2025-04-09T01:59:43.338899Z",
     "shell.execute_reply": "2025-04-09T01:59:43.337556Z"
    },
    "papermill": {
     "duration": 0.023767,
     "end_time": "2025-04-09T01:59:43.341305",
     "exception": false,
     "start_time": "2025-04-09T01:59:43.317538",
     "status": "completed"
    },
    "tags": []
   },
   "outputs": [
    {
     "data": {
      "text/html": [
       "<h4>📄 ⚠️ You haven't pasted any resume yet. The default example will be used.</h4>"
      ],
      "text/plain": [
       "<IPython.core.display.HTML object>"
      ]
     },
     "metadata": {},
     "output_type": "display_data"
    },
    {
     "data": {
      "application/vnd.jupyter.widget-view+json": {
       "model_id": "0e49c5634308431f9c901a91e4e41543",
       "version_major": 2,
       "version_minor": 0
      },
      "text/plain": [
       "Textarea(value='', description='Resume:', layout=Layout(height='200px', width='100%'), placeholder='Paste your…"
      ]
     },
     "metadata": {},
     "output_type": "display_data"
    }
   ],
   "source": [
    "from IPython.display import display, HTML\n",
    "import ipywidgets as widgets\n",
    "\n",
    "cv_input = widgets.Textarea(\n",
    "    value=\"\",\n",
    "    placeholder=\"Paste your resume here...\",\n",
    "    description='Resume:',\n",
    "    layout=widgets.Layout(width='100%', height='200px'),\n",
    "    style={'description_width': 'initial'}\n",
    ")\n",
    "\n",
    "display(HTML(\"<h4>📄 ⚠️ You haven't pasted any resume yet. The default example will be used.</h4>\"))\n",
    "display(cv_input)"
   ]
  },
  {
   "cell_type": "code",
   "execution_count": 3,
   "id": "6fc8b769",
   "metadata": {
    "execution": {
     "iopub.execute_input": "2025-04-09T01:59:43.349144Z",
     "iopub.status.busy": "2025-04-09T01:59:43.348776Z",
     "iopub.status.idle": "2025-04-09T01:59:48.069399Z",
     "shell.execute_reply": "2025-04-09T01:59:48.068084Z"
    },
    "papermill": {
     "duration": 4.72671,
     "end_time": "2025-04-09T01:59:48.071418",
     "exception": false,
     "start_time": "2025-04-09T01:59:43.344708",
     "status": "completed"
    },
    "tags": []
   },
   "outputs": [
    {
     "data": {
      "text/html": [
       "<p style='color:orange; font-weight:bold;'>⚠️ Resume input is empty. Using default sample resume.</p>"
      ],
      "text/plain": [
       "<IPython.core.display.HTML object>"
      ]
     },
     "metadata": {},
     "output_type": "display_data"
    },
    {
     "data": {
      "text/markdown": [
       "**🌐 Top Matches:**\n",
       "```json\n",
       "[\n",
       "  {\n",
       "    \"title\": \"Engineering Manager\",\n",
       "    \"why_match\": \"With leadership experience and familiarity with Kubernetes, Docker, and GCP, this role aligns well with guiding a team and overseeing technical projects.\",\n",
       "    \"suggested_next_skills\": [\n",
       "      \"Project Management (Agile, Scrum)\",\n",
       "      \"Team Leadership & Mentoring\",\n",
       "      \"Conflict Resolution\"\n",
       "    ]\n",
       "  },\n",
       "  {\n",
       "    \"title\": \"Solutions Architect\",\n",
       "    \"why_match\": \"The extensive experience with cloud infrastructure, databases, and backend services, combined with interests in AI/ML, makes this role a good fit for designing comprehensive solutions.\",\n",
       "    \"suggested_next_skills\": [\n",
       "      \"System Design\",\n",
       "      \"AI/ML Frameworks (TensorFlow, PyTorch)\",\n",
       "      \"Security Engineering\"\n",
       "    ]\n",
       "  },\n",
       "  {\n",
       "    \"title\": \"Backend Engineer\",\n",
       "    \"why_match\": \"The profile demonstrates proficiency in backend technologies like Python, Go, Java, PostgreSQL, and Redis, making this role a natural progression to focus on server-side development.\",\n",
       "    \"suggested_next_skills\": [\n",
       "      \"Message Queues (Kafka, RabbitMQ)\",\n",
       "      \"API Design (REST, GraphQL)\",\n",
       "      \"Performance Tuning & Optimization\"\n",
       "    ]\n",
       "  }\n",
       "]\n",
       "```"
      ],
      "text/plain": [
       "<IPython.core.display.Markdown object>"
      ]
     },
     "execution_count": 3,
     "metadata": {},
     "output_type": "execute_result"
    }
   ],
   "source": [
    "# Default resume (used only if input is empty)\n",
    "sample_resume = \"\"\"\n",
    "Senior Software Engineer with 6+ years experience in backend development using Python, Go, and Java.\n",
    "Led a team of 4 engineers. Built scalable APIs, integrated third-party services, and designed microservices architecture.\n",
    "Experience with Kubernetes, Docker, GCP, PostgreSQL, Redis.\n",
    "Interest in AI/ML and product management.\n",
    "\"\"\"\n",
    "\n",
    "# Use resume from input (cv_input is assumed to be defined in a previous cell)\n",
    "resume = cv_input.value.strip()\n",
    "if not resume:\n",
    "    display(HTML(\"<p style='color:orange; font-weight:bold;'>⚠️ Resume input is empty. Using default sample resume.</p>\"))\n",
    "    resume = sample_resume\n",
    "\n",
    "# STEP 1 – Extract structured profile\n",
    "profile_prompt = f\"\"\"\n",
    "You are a resume analyst.\n",
    "Given the following resume, extract structured fields in JSON:\n",
    "- years_experience: integer\n",
    "- primary_stack: list of technologies or frameworks\n",
    "- leadership_experience: boolean\n",
    "- interests: list of areas\n",
    "- career_level: entry / mid / senior\n",
    "\n",
    "Resume:\n",
    "{resume}\n",
    "\"\"\"\n",
    "profile = model.generate_content(profile_prompt).text\n",
    "Markdown(\"**📄 Extracted Profile:**\\n\" + profile)\n",
    "\n",
    "# STEP 2 – Suggest career paths\n",
    "career_prompt = f\"\"\"\n",
    "Given the profile:\n",
    "{profile}\n",
    "\n",
    "Suggest at least 5 realistic or aspirational career paths.\n",
    "Return a list of job titles with one-line descriptions.\n",
    "\"\"\"\n",
    "career_suggestions = model.generate_content(career_prompt).text\n",
    "Markdown(\"**🔎 Career Suggestions:**\\n\" + career_suggestions)\n",
    "\n",
    "# STEP 3 – Match top roles\n",
    "match_prompt = f\"\"\"\n",
    "Based on this profile:\n",
    "{profile}\n",
    "\n",
    "And these career paths:\n",
    "{career_suggestions}\n",
    "\n",
    "Return a JSON array with 3 top recommended roles with:\n",
    "- title\n",
    "- why_match (1 sentence)\n",
    "- suggested_next_skills (list)\n",
    "\"\"\"\n",
    "match = model.generate_content(match_prompt).text\n",
    "Markdown(\"**🌐 Top Matches:**\\n\" + match)"
   ]
  },
  {
   "cell_type": "markdown",
   "id": "629cc42f",
   "metadata": {
    "papermill": {
     "duration": 0.003107,
     "end_time": "2025-04-09T01:59:48.078047",
     "exception": false,
     "start_time": "2025-04-09T01:59:48.074940",
     "status": "completed"
    },
    "tags": []
   },
   "source": [
    "## ✅ GenAI Capabilities Demonstrated\n",
    "\n",
    "This Capstone project leverages the following Generative AI capabilities, as required:\n",
    "\n",
    "| Capability                         | Description                                                                 |\n",
    "|------------------------------------|-----------------------------------------------------------------------------|\n",
    "| **Structured output / JSON**       | The model extracts a structured profile from a plain-text resume in JSON format. |\n",
    "| **Few-shot prompting**             | Prompts include explicit schema and instructions to control the output format and content. |\n",
    "| **Gen AI evaluation / reasoning**  | The model compares the user's profile to suggested career paths and justifies the best matches. |\n",
    "\n",
    "These capabilities are combined to simulate the work of an intelligent career advisor, powered by LLMs."
   ]
  }
 ],
 "metadata": {
  "kaggle": {
   "accelerator": "none",
   "dataSources": [],
   "dockerImageVersionId": 30918,
   "isGpuEnabled": false,
   "isInternetEnabled": true,
   "language": "python",
   "sourceType": "notebook"
  },
  "kernelspec": {
   "display_name": "Python 3",
   "language": "python",
   "name": "python3"
  },
  "language_info": {
   "codemirror_mode": {
    "name": "ipython",
    "version": 3
   },
   "file_extension": ".py",
   "mimetype": "text/x-python",
   "name": "python",
   "nbconvert_exporter": "python",
   "pygments_lexer": "ipython3",
   "version": "3.10.12"
  },
  "papermill": {
   "default_parameters": {},
   "duration": 39.042715,
   "end_time": "2025-04-09T01:59:51.566796",
   "environment_variables": {},
   "exception": null,
   "input_path": "__notebook__.ipynb",
   "output_path": "__notebook__.ipynb",
   "parameters": {},
   "start_time": "2025-04-09T01:59:12.524081",
   "version": "2.6.0"
  },
  "widgets": {
   "application/vnd.jupyter.widget-state+json": {
    "state": {
     "0e49c5634308431f9c901a91e4e41543": {
      "model_module": "@jupyter-widgets/controls",
      "model_module_version": "2.0.0",
      "model_name": "TextareaModel",
      "state": {
       "_dom_classes": [],
       "_model_module": "@jupyter-widgets/controls",
       "_model_module_version": "2.0.0",
       "_model_name": "TextareaModel",
       "_view_count": null,
       "_view_module": "@jupyter-widgets/controls",
       "_view_module_version": "2.0.0",
       "_view_name": "TextareaView",
       "continuous_update": true,
       "description": "Resume:",
       "description_allow_html": false,
       "disabled": false,
       "layout": "IPY_MODEL_46dd9a3479b948f392c3213bc89c017b",
       "placeholder": "Paste your resume here...",
       "rows": null,
       "style": "IPY_MODEL_e5c708618655438ca04da887f3664733",
       "tabbable": null,
       "tooltip": null,
       "value": ""
      }
     },
     "46dd9a3479b948f392c3213bc89c017b": {
      "model_module": "@jupyter-widgets/base",
      "model_module_version": "2.0.0",
      "model_name": "LayoutModel",
      "state": {
       "_model_module": "@jupyter-widgets/base",
       "_model_module_version": "2.0.0",
       "_model_name": "LayoutModel",
       "_view_count": null,
       "_view_module": "@jupyter-widgets/base",
       "_view_module_version": "2.0.0",
       "_view_name": "LayoutView",
       "align_content": null,
       "align_items": null,
       "align_self": null,
       "border_bottom": null,
       "border_left": null,
       "border_right": null,
       "border_top": null,
       "bottom": null,
       "display": null,
       "flex": null,
       "flex_flow": null,
       "grid_area": null,
       "grid_auto_columns": null,
       "grid_auto_flow": null,
       "grid_auto_rows": null,
       "grid_column": null,
       "grid_gap": null,
       "grid_row": null,
       "grid_template_areas": null,
       "grid_template_columns": null,
       "grid_template_rows": null,
       "height": "200px",
       "justify_content": null,
       "justify_items": null,
       "left": null,
       "margin": null,
       "max_height": null,
       "max_width": null,
       "min_height": null,
       "min_width": null,
       "object_fit": null,
       "object_position": null,
       "order": null,
       "overflow": null,
       "padding": null,
       "right": null,
       "top": null,
       "visibility": null,
       "width": "100%"
      }
     },
     "e5c708618655438ca04da887f3664733": {
      "model_module": "@jupyter-widgets/controls",
      "model_module_version": "2.0.0",
      "model_name": "TextStyleModel",
      "state": {
       "_model_module": "@jupyter-widgets/controls",
       "_model_module_version": "2.0.0",
       "_model_name": "TextStyleModel",
       "_view_count": null,
       "_view_module": "@jupyter-widgets/base",
       "_view_module_version": "2.0.0",
       "_view_name": "StyleView",
       "background": null,
       "description_width": "initial",
       "font_size": null,
       "text_color": null
      }
     }
    },
    "version_major": 2,
    "version_minor": 0
   }
  }
 },
 "nbformat": 4,
 "nbformat_minor": 5
}
