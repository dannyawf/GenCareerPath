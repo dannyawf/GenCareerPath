{
 "cells": [
  {
   "cell_type": "markdown",
   "id": "7cc802cd",
   "metadata": {
    "papermill": {
     "duration": 0.002945,
     "end_time": "2025-04-09T05:10:02.514845",
     "exception": false,
     "start_time": "2025-04-09T05:10:02.511900",
     "status": "completed"
    },
    "tags": []
   },
   "source": [
    "# 💼 GenCareerPath 1.0 – Career Path Advisor\n",
    "\n",
    "This notebook is the Capstone Project for the GenAI Intensive Course with Google.\n",
    "\n",
    "**GenCareerPath 1.0** uses a Generative AI model (`gemini-2.0-flash`) to analyze a candidate's resume and suggest realistic or aspirational career paths based on the profile. It simulates the role of a career advisor enhanced by generative capabilities.\n",
    "\n",
    "---\n",
    "\n",
    "## 🎯 Objective\n",
    "\n",
    "To demonstrate multiple GenAI capabilities in a practical, real-world application:\n",
    "- Extract structured data from unstructured resume text\n",
    "- Recommend personalized career directions\n",
    "- Match user profiles to roles with explanation and skill development suggestions\n",
    "\n",
    "---\n",
    "\n",
    "## ✅ GenAI Capabilities Demonstrated in This Project\n",
    "\n",
    "This project uses Gemini 2.0 to analyze a resume and generate career insights.\n",
    "\n",
    "We demonstrate the following official GenAI capabilities required by the Capstone:\n",
    "\n",
    "| Capability                                | Applied in this project                                          |\n",
    "|-------------------------------------------|------------------------------------------------------------------|\n",
    "| **Structured output / JSON mode**         | Resume is converted to structured fields using controlled output |\n",
    "| **Few-shot prompting**                    | Prompts define and constrain the expected response structure     |\n",
    "| **Document understanding**                | Model extracts information from a free-text resume               |\n",
    "---\n",
    "\n",
    "## 🔧 Technologies\n",
    "- Google Generative AI SDK (`google-generativeai`)\n",
    "- Gemini 2.0 Flash model (`models/gemini-2.0-flash`)\n",
    "- Kaggle Secrets for secure API usage"
   ]
  },
  {
   "cell_type": "markdown",
   "id": "c9043960",
   "metadata": {
    "papermill": {
     "duration": 0.002063,
     "end_time": "2025-04-09T05:10:02.519746",
     "exception": false,
     "start_time": "2025-04-09T05:10:02.517683",
     "status": "completed"
    },
    "tags": []
   },
   "source": [
    "## 🛠️ Step 0 - Setup\n",
    "\n",
    "## 🔐 API Key Configuration (Required)\n",
    "\n",
    "To run this notebook, you **must add your Google Generative AI API key** using the Kaggle Secrets manager.\n",
    "\n",
    "---\n",
    "\n",
    "### 📌 Steps:\n",
    "\n",
    "1. Go to the **right sidebar** → click on **\"Add-ons\" → \"Secrets\"**\n",
    "2. Create a new secret with the following:\n",
    "\n",
    "- **Name**: `GOOGLE_API_KEY`  *(must match exactly)*\n",
    "- **Value**: Your actual API key from Google Generative AI\n",
    "\n",
    "---\n",
    "\n",
    "> ⚠️ **If the API key is missing, the notebook will fail to connect to the model.**\n",
    "\n",
    "---\n",
    "\n",
    "### ✅ Referenced Code Snippet\n",
    "\n",
    "```python\n",
    "from kaggle_secrets import UserSecretsClient\n",
    "GOOGLE_API_KEY = UserSecretsClient().get_secret(\"GOOGLE_API_KEY\")"
   ]
  },
  {
   "cell_type": "code",
   "execution_count": 1,
   "id": "32d46357",
   "metadata": {
    "execution": {
     "iopub.execute_input": "2025-04-09T05:10:02.525782Z",
     "iopub.status.busy": "2025-04-09T05:10:02.525391Z",
     "iopub.status.idle": "2025-04-09T05:10:32.882287Z",
     "shell.execute_reply": "2025-04-09T05:10:32.880844Z"
    },
    "papermill": {
     "duration": 30.362484,
     "end_time": "2025-04-09T05:10:32.884545",
     "exception": false,
     "start_time": "2025-04-09T05:10:02.522061",
     "status": "completed"
    },
    "tags": []
   },
   "outputs": [
    {
     "name": "stdout",
     "output_type": "stream",
     "text": [
      "\u001b[2K   \u001b[90m━━━━━━━━━━━━━━━━━━━━━━━━━━━━━━━━━━━━━━━━\u001b[0m \u001b[32m175.4/175.4 kB\u001b[0m \u001b[31m6.1 MB/s\u001b[0m eta \u001b[36m0:00:00\u001b[0m\r\n",
      "\u001b[2K   \u001b[90m━━━━━━━━━━━━━━━━━━━━━━━━━━━━━━━━━━━━━━━━\u001b[0m \u001b[32m1.3/1.3 MB\u001b[0m \u001b[31m36.2 MB/s\u001b[0m eta \u001b[36m0:00:00\u001b[0m\r\n",
      "\u001b[?25h"
     ]
    }
   ],
   "source": [
    "!pip install -q --upgrade google-generativeai\n",
    "\n",
    "from kaggle_secrets import UserSecretsClient\n",
    "from IPython.display import display, HTML, Markdown\n",
    "import google.generativeai as genai\n",
    "import json\n",
    "\n",
    "# Validate and load API key\n",
    "try:\n",
    "    GOOGLE_API_KEY = UserSecretsClient().get_secret(\"GOOGLE_API_KEY\")\n",
    "    if not GOOGLE_API_KEY.strip():\n",
    "        raise ValueError(\"Empty key\")\n",
    "except Exception as e:\n",
    "    display(HTML(f\"\"\"\n",
    "        <p style='color:red; font-weight:bold; font-size:16px;'>\n",
    "        ❌ ERROR: Google API key is missing or not set in Kaggle secrets.<br>\n",
    "        Please create a secret named <code>GOOGLE_API_KEY</code> to proceed.\n",
    "        </p>\n",
    "    \"\"\"))\n",
    "    raise SystemExit(\"🛑 Halting execution due to missing API key.\")\n",
    "\n",
    "# Configure GenAI\n",
    "genai.configure(api_key=GOOGLE_API_KEY)\n",
    "model = genai.GenerativeModel(\"models/gemini-2.0-flash\")"
   ]
  },
  {
   "cell_type": "markdown",
   "id": "c57b2014",
   "metadata": {
    "papermill": {
     "duration": 0.003259,
     "end_time": "2025-04-09T05:10:32.890845",
     "exception": false,
     "start_time": "2025-04-09T05:10:32.887586",
     "status": "completed"
    },
    "tags": []
   },
   "source": [
    "## 📋 Step 1 - Paste Your Resume\n",
    "\n",
    "Please paste your resume in the text area below **before running any code**.\n",
    "\n",
    "If you leave it empty, the default sample resume will be used for demonstration purposes.\n",
    "\n",
    "👉 Once you've pasted your resume, run the next cells to begin the analysis.\n",
    "\n",
    "## 📚 Example Resumes\n",
    "\n",
    "You can copy and paste any of the following resumes into the input field above to test the ResumeGenAI assistant.  \n",
    "Each resume represents a different role and background.\n",
    "\n",
    "---\n",
    "\n",
    "### 🧠 GenAI Engineer\n",
    "\n",
    "Generative AI Engineer with 5+ years experience in machine learning and NLP.\n",
    "Worked with LLMs, prompt engineering, and fine-tuning techniques using TensorFlow and JAX.\n",
    "Built internal RAG tools using vector databases and document embeddings.\n",
    "Deployed multi-modal models for enterprise search, chatbot integration, and evaluation pipelines.\n",
    "Familiar with Vertex AI, LangChain, and API-based orchestration for agent workflows.\n",
    "\n",
    "---\n",
    "\n",
    "### 🎨 UX Designer\n",
    "\n",
    "Senior UX Designer with 8+ years experience in user-centered design.\n",
    "Led end-to-end product design for fintech and e-commerce platforms.\n",
    "Skilled in Figma, design systems, and user research methodologies.\n",
    "Delivered responsive prototypes, A/B tests, and UX writing standards.\n",
    "Passionate about accessibility, product strategy, and mentoring junior designers.\n",
    "\n",
    "---\n",
    "\n",
    "### 📊 Data Scientist\n",
    "\n",
    "Data Scientist with 6+ years experience in predictive modeling and analytics.\n",
    "Specialized in Python, pandas, scikit-learn, and PyTorch.\n",
    "Built real-time dashboards, classification models, and business intelligence workflows.\n",
    "Worked with stakeholders to translate data into product insights.\n",
    "Strong communication, experimentation, and statistical modeling background.\n"
   ]
  },
  {
   "cell_type": "code",
   "execution_count": 2,
   "id": "f77b124c",
   "metadata": {
    "execution": {
     "iopub.execute_input": "2025-04-09T05:10:32.898084Z",
     "iopub.status.busy": "2025-04-09T05:10:32.897409Z",
     "iopub.status.idle": "2025-04-09T05:10:32.913418Z",
     "shell.execute_reply": "2025-04-09T05:10:32.911592Z"
    },
    "papermill": {
     "duration": 0.023267,
     "end_time": "2025-04-09T05:10:32.916777",
     "exception": false,
     "start_time": "2025-04-09T05:10:32.893510",
     "status": "completed"
    },
    "tags": []
   },
   "outputs": [
    {
     "data": {
      "text/html": [
       "<h4>📄 ⚠️ You haven't pasted any resume yet. The default example will be used.</h4>"
      ],
      "text/plain": [
       "<IPython.core.display.HTML object>"
      ]
     },
     "metadata": {},
     "output_type": "display_data"
    },
    {
     "data": {
      "application/vnd.jupyter.widget-view+json": {
       "model_id": "2aa8efe784d24167898b18c494382383",
       "version_major": 2,
       "version_minor": 0
      },
      "text/plain": [
       "Textarea(value='', description='Resume:', layout=Layout(height='200px', width='100%'), placeholder='Paste your…"
      ]
     },
     "metadata": {},
     "output_type": "display_data"
    }
   ],
   "source": [
    "from IPython.display import display, HTML\n",
    "import ipywidgets as widgets\n",
    "\n",
    "cv_input = widgets.Textarea(\n",
    "    value=\"\",\n",
    "    placeholder=\"Paste your resume here...\",\n",
    "    description='Resume:',\n",
    "    layout=widgets.Layout(width='100%', height='200px'),\n",
    "    style={'description_width': 'initial'}\n",
    ")\n",
    "\n",
    "display(HTML(\"<h4>📄 ⚠️ You haven't pasted any resume yet. The default example will be used.</h4>\"))\n",
    "display(cv_input)"
   ]
  },
  {
   "cell_type": "code",
   "execution_count": 3,
   "id": "51ef4f4b",
   "metadata": {
    "execution": {
     "iopub.execute_input": "2025-04-09T05:10:32.924656Z",
     "iopub.status.busy": "2025-04-09T05:10:32.924269Z",
     "iopub.status.idle": "2025-04-09T05:10:38.036697Z",
     "shell.execute_reply": "2025-04-09T05:10:38.035367Z"
    },
    "papermill": {
     "duration": 5.119303,
     "end_time": "2025-04-09T05:10:38.039351",
     "exception": false,
     "start_time": "2025-04-09T05:10:32.920048",
     "status": "completed"
    },
    "tags": []
   },
   "outputs": [
    {
     "data": {
      "text/html": [
       "<p style='color:orange; font-weight:bold;'>⚠️ Resume input is empty. Using default sample resume.</p>"
      ],
      "text/plain": [
       "<IPython.core.display.HTML object>"
      ]
     },
     "metadata": {},
     "output_type": "display_data"
    },
    {
     "data": {
      "text/markdown": [
       "**🌐 Top Matches:**\n",
       "```json\n",
       "[\n",
       "  {\n",
       "    \"title\": \"Technical Lead\",\n",
       "    \"why_match\": \"Combines the profile's strong technical skills in Python, Go, and cloud technologies with leadership experience to guide and mentor a team.\",\n",
       "    \"suggested_next_skills\": [\n",
       "      \"Project Management Methodologies (Agile, Scrum)\",\n",
       "      \"Conflict Resolution\",\n",
       "      \"Performance Management\"\n",
       "    ]\n",
       "  },\n",
       "  {\n",
       "    \"title\": \"Solutions Architect\",\n",
       "    \"why_match\": \"Leverages the broad technical skillset across programming languages, cloud platforms, and databases to design and implement comprehensive solutions.\",\n",
       "    \"suggested_next_skills\": [\n",
       "      \"Enterprise Architecture Frameworks (TOGAF)\",\n",
       "      \"Business Analysis\",\n",
       "      \"Advanced Cloud Certifications (e.g., GCP Professional Architect)\"\n",
       "    ]\n",
       "  },\n",
       "  {\n",
       "    \"title\": \"Engineering Manager\",\n",
       "    \"why_match\": \"Utilizes leadership experience and an interest in product management to manage a team, align technical strategy with business objectives, and focus on team development.\",\n",
       "    \"suggested_next_skills\": [\n",
       "      \"Budget Management\",\n",
       "      \"Strategic Planning\",\n",
       "      \"Advanced Product Management Techniques\"\n",
       "    ]\n",
       "  }\n",
       "]\n",
       "```"
      ],
      "text/plain": [
       "<IPython.core.display.Markdown object>"
      ]
     },
     "execution_count": 3,
     "metadata": {},
     "output_type": "execute_result"
    }
   ],
   "source": [
    "# Default resume (used only if input is empty)\n",
    "sample_resume = \"\"\"\n",
    "Senior Software Engineer with 6+ years experience in backend development using Python, Go, and Java.\n",
    "Led a team of 4 engineers. Built scalable APIs, integrated third-party services, and designed microservices architecture.\n",
    "Experience with Kubernetes, Docker, GCP, PostgreSQL, Redis.\n",
    "Interest in AI/ML and product management.\n",
    "\"\"\"\n",
    "\n",
    "# Use resume from input (cv_input is assumed to be defined in a previous cell)\n",
    "resume = cv_input.value.strip()\n",
    "if not resume:\n",
    "    display(HTML(\"<p style='color:orange; font-weight:bold;'>⚠️ Resume input is empty. Using default sample resume.</p>\"))\n",
    "    resume = sample_resume\n",
    "\n",
    "# STEP 1 – Extract structured profile\n",
    "profile_prompt = f\"\"\"\n",
    "You are a resume analyst.\n",
    "Given the following resume, extract structured fields in JSON:\n",
    "- years_experience: integer\n",
    "- primary_stack: list of technologies or frameworks\n",
    "- leadership_experience: boolean\n",
    "- interests: list of areas\n",
    "- career_level: entry / mid / senior\n",
    "\n",
    "Resume:\n",
    "{resume}\n",
    "\"\"\"\n",
    "profile = model.generate_content(profile_prompt).text\n",
    "Markdown(\"**📄 Extracted Profile:**\\n\" + profile)\n",
    "\n",
    "# STEP 2 – Suggest career paths\n",
    "career_prompt = f\"\"\"\n",
    "Given the profile:\n",
    "{profile}\n",
    "\n",
    "Suggest at least 5 realistic or aspirational career paths.\n",
    "Return a list of job titles with one-line descriptions.\n",
    "\"\"\"\n",
    "career_suggestions = model.generate_content(career_prompt).text\n",
    "Markdown(\"**🔎 Career Suggestions:**\\n\" + career_suggestions)\n",
    "\n",
    "# STEP 3 – Match top roles\n",
    "match_prompt = f\"\"\"\n",
    "Based on this profile:\n",
    "{profile}\n",
    "\n",
    "And these career paths:\n",
    "{career_suggestions}\n",
    "\n",
    "Return a JSON array with 3 top recommended roles with:\n",
    "- title\n",
    "- why_match (1 sentence)\n",
    "- suggested_next_skills (list)\n",
    "\"\"\"\n",
    "match = model.generate_content(match_prompt).text\n",
    "Markdown(\"**🌐 Top Matches:**\\n\" + match)"
   ]
  },
  {
   "cell_type": "markdown",
   "id": "d1148e98",
   "metadata": {
    "papermill": {
     "duration": 0.003292,
     "end_time": "2025-04-09T05:10:38.046324",
     "exception": false,
     "start_time": "2025-04-09T05:10:38.043032",
     "status": "completed"
    },
    "tags": []
   },
   "source": [
    "## ✅ GenAI Capabilities Demonstrated\n",
    "\n",
    "## ✅ Summary of GenAI Capabilities Used\n",
    "\n",
    "| GenAI Capability                         | How it was applied                                                |\n",
    "|------------------------------------------|-------------------------------------------------------------------|\n",
    "| **Structured output / JSON mode**        | Model generates structured data (e.g., skills, experience level)  |\n",
    "| **Few-shot prompting**                   | Prompts guide and shape responses with clear instructions         |\n",
    "| **Document understanding**               | Unstructured CVs are analyzed to extract semantically rich fields |\n",
    "\n",
    "These align directly with the required capabilities for the Capstone evaluation.\n",
    "These capabilities are combined to simulate the work of an intelligent career advisor, powered by LLMs."
   ]
  }
 ],
 "metadata": {
  "kaggle": {
   "accelerator": "none",
   "dataSources": [],
   "dockerImageVersionId": 30918,
   "isGpuEnabled": false,
   "isInternetEnabled": true,
   "language": "python",
   "sourceType": "notebook"
  },
  "kernelspec": {
   "display_name": "Python 3",
   "language": "python",
   "name": "python3"
  },
  "language_info": {
   "codemirror_mode": {
    "name": "ipython",
    "version": 3
   },
   "file_extension": ".py",
   "mimetype": "text/x-python",
   "name": "python",
   "nbconvert_exporter": "python",
   "pygments_lexer": "ipython3",
   "version": "3.10.12"
  },
  "papermill": {
   "default_parameters": {},
   "duration": 41.662044,
   "end_time": "2025-04-09T05:10:40.992268",
   "environment_variables": {},
   "exception": null,
   "input_path": "__notebook__.ipynb",
   "output_path": "__notebook__.ipynb",
   "parameters": {},
   "start_time": "2025-04-09T05:09:59.330224",
   "version": "2.6.0"
  },
  "widgets": {
   "application/vnd.jupyter.widget-state+json": {
    "state": {
     "0618c6daa3c445a993e9c62fd071d824": {
      "model_module": "@jupyter-widgets/controls",
      "model_module_version": "2.0.0",
      "model_name": "TextStyleModel",
      "state": {
       "_model_module": "@jupyter-widgets/controls",
       "_model_module_version": "2.0.0",
       "_model_name": "TextStyleModel",
       "_view_count": null,
       "_view_module": "@jupyter-widgets/base",
       "_view_module_version": "2.0.0",
       "_view_name": "StyleView",
       "background": null,
       "description_width": "initial",
       "font_size": null,
       "text_color": null
      }
     },
     "2aa8efe784d24167898b18c494382383": {
      "model_module": "@jupyter-widgets/controls",
      "model_module_version": "2.0.0",
      "model_name": "TextareaModel",
      "state": {
       "_dom_classes": [],
       "_model_module": "@jupyter-widgets/controls",
       "_model_module_version": "2.0.0",
       "_model_name": "TextareaModel",
       "_view_count": null,
       "_view_module": "@jupyter-widgets/controls",
       "_view_module_version": "2.0.0",
       "_view_name": "TextareaView",
       "continuous_update": true,
       "description": "Resume:",
       "description_allow_html": false,
       "disabled": false,
       "layout": "IPY_MODEL_a7bd5f40c3d749bf8e0791204c6ef4ca",
       "placeholder": "Paste your resume here...",
       "rows": null,
       "style": "IPY_MODEL_0618c6daa3c445a993e9c62fd071d824",
       "tabbable": null,
       "tooltip": null,
       "value": ""
      }
     },
     "a7bd5f40c3d749bf8e0791204c6ef4ca": {
      "model_module": "@jupyter-widgets/base",
      "model_module_version": "2.0.0",
      "model_name": "LayoutModel",
      "state": {
       "_model_module": "@jupyter-widgets/base",
       "_model_module_version": "2.0.0",
       "_model_name": "LayoutModel",
       "_view_count": null,
       "_view_module": "@jupyter-widgets/base",
       "_view_module_version": "2.0.0",
       "_view_name": "LayoutView",
       "align_content": null,
       "align_items": null,
       "align_self": null,
       "border_bottom": null,
       "border_left": null,
       "border_right": null,
       "border_top": null,
       "bottom": null,
       "display": null,
       "flex": null,
       "flex_flow": null,
       "grid_area": null,
       "grid_auto_columns": null,
       "grid_auto_flow": null,
       "grid_auto_rows": null,
       "grid_column": null,
       "grid_gap": null,
       "grid_row": null,
       "grid_template_areas": null,
       "grid_template_columns": null,
       "grid_template_rows": null,
       "height": "200px",
       "justify_content": null,
       "justify_items": null,
       "left": null,
       "margin": null,
       "max_height": null,
       "max_width": null,
       "min_height": null,
       "min_width": null,
       "object_fit": null,
       "object_position": null,
       "order": null,
       "overflow": null,
       "padding": null,
       "right": null,
       "top": null,
       "visibility": null,
       "width": "100%"
      }
     }
    },
    "version_major": 2,
    "version_minor": 0
   }
  }
 },
 "nbformat": 4,
 "nbformat_minor": 5
}
