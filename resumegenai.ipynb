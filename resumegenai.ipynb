{
 "cells": [
  {
   "cell_type": "markdown",
   "id": "32430f6d",
   "metadata": {
    "papermill": {
     "duration": 0.002331,
     "end_time": "2025-04-09T01:51:46.773098",
     "exception": false,
     "start_time": "2025-04-09T01:51:46.770767",
     "status": "completed"
    },
    "tags": []
   },
   "source": [
    "# 💼 GenCareerPath 1.0 – Career Path Advisor\n",
    "\n",
    "This notebook is the Capstone Project for the GenAI Intensive Course with Google.\n",
    "\n",
    "**GenCareerPath 1.0** uses a Generative AI model (`gemini-2.0-flash`) to analyze a candidate's resume and suggest realistic or aspirational career paths based on the profile. It simulates the role of a career advisor enhanced by generative capabilities.\n",
    "\n",
    "---\n",
    "\n",
    "## 🎯 Objective\n",
    "\n",
    "To demonstrate multiple GenAI capabilities in a practical, real-world application:\n",
    "- Extract structured data from unstructured resume text\n",
    "- Recommend personalized career directions\n",
    "- Match user profiles to roles with explanation and skill development suggestions\n",
    "\n",
    "---\n",
    "\n",
    "## ✅ GenAI Capabilities Demonstrated\n",
    "- Prompt-based information extraction\n",
    "- Structured output (JSON formatting)\n",
    "- Reasoning and content generation based on context\n",
    "\n",
    "---\n",
    "\n",
    "## 🔧 Technologies\n",
    "- Google Generative AI SDK (`google-generativeai`)\n",
    "- Gemini 2.0 Flash model (`models/gemini-2.0-flash`)\n",
    "- Kaggle Secrets for secure API usage"
   ]
  },
  {
   "cell_type": "markdown",
   "id": "d0fe2249",
   "metadata": {
    "papermill": {
     "duration": 0.00142,
     "end_time": "2025-04-09T01:51:46.776409",
     "exception": false,
     "start_time": "2025-04-09T01:51:46.774989",
     "status": "completed"
    },
    "tags": []
   },
   "source": [
    "## 🛠️ Step 0 - Setup"
   ]
  },
  {
   "cell_type": "code",
   "execution_count": 1,
   "id": "5ed78ad0",
   "metadata": {
    "execution": {
     "iopub.execute_input": "2025-04-09T01:51:46.780751Z",
     "iopub.status.busy": "2025-04-09T01:51:46.780477Z",
     "iopub.status.idle": "2025-04-09T01:52:09.861962Z",
     "shell.execute_reply": "2025-04-09T01:52:09.860864Z"
    },
    "papermill": {
     "duration": 23.085685,
     "end_time": "2025-04-09T01:52:09.863644",
     "exception": false,
     "start_time": "2025-04-09T01:51:46.777959",
     "status": "completed"
    },
    "tags": []
   },
   "outputs": [
    {
     "name": "stdout",
     "output_type": "stream",
     "text": [
      "\u001b[2K   \u001b[90m━━━━━━━━━━━━━━━━━━━━━━━━━━━━━━━━━━━━━━━━\u001b[0m \u001b[32m175.4/175.4 kB\u001b[0m \u001b[31m5.8 MB/s\u001b[0m eta \u001b[36m0:00:00\u001b[0m\r\n",
      "\u001b[2K   \u001b[90m━━━━━━━━━━━━━━━━━━━━━━━━━━━━━━━━━━━━━━━━\u001b[0m \u001b[32m1.3/1.3 MB\u001b[0m \u001b[31m11.3 MB/s\u001b[0m eta \u001b[36m0:00:00\u001b[0m\r\n",
      "\u001b[?25h"
     ]
    }
   ],
   "source": [
    "!pip install -q --upgrade google-generativeai\n",
    "\n",
    "import google.generativeai as genai\n",
    "from kaggle_secrets import UserSecretsClient\n",
    "from IPython.display import Markdown, HTML, display\n",
    "import json\n",
    "\n",
    "# Setup API key and model\n",
    "GOOGLE_API_KEY = UserSecretsClient().get_secret(\"GOOGLE_API_KEY\")\n",
    "genai.configure(api_key=GOOGLE_API_KEY)\n",
    "model = genai.GenerativeModel(\"models/gemini-2.0-flash\")"
   ]
  },
  {
   "cell_type": "markdown",
   "id": "b969915c",
   "metadata": {
    "papermill": {
     "duration": 0.001648,
     "end_time": "2025-04-09T01:52:09.867468",
     "exception": false,
     "start_time": "2025-04-09T01:52:09.865820",
     "status": "completed"
    },
    "tags": []
   },
   "source": [
    "## 📋 Step 1 - Paste Your Resume\n",
    "\n",
    "Please paste your resume in the text area below **before running any code**.\n",
    "\n",
    "If you leave it empty, the default sample resume will be used for demonstration purposes.\n",
    "\n",
    "👉 Once you've pasted your resume, run the next cells to begin the analysis.\n",
    "\n",
    "## 📚 Example Resumes\n",
    "\n",
    "You can copy and paste any of the following resumes into the input field above to test the ResumeGenAI assistant.  \n",
    "Each resume represents a different role and background.\n",
    "\n",
    "---\n",
    "\n",
    "### 🧠 GenAI Engineer\n",
    "\n",
    "Generative AI Engineer with 5+ years experience in machine learning and NLP.\n",
    "Worked with LLMs, prompt engineering, and fine-tuning techniques using TensorFlow and JAX.\n",
    "Built internal RAG tools using vector databases and document embeddings.\n",
    "Deployed multi-modal models for enterprise search, chatbot integration, and evaluation pipelines.\n",
    "Familiar with Vertex AI, LangChain, and API-based orchestration for agent workflows.\n",
    "\n",
    "---\n",
    "\n",
    "### 🎨 UX Designer\n",
    "\n",
    "Senior UX Designer with 8+ years experience in user-centered design.\n",
    "Led end-to-end product design for fintech and e-commerce platforms.\n",
    "Skilled in Figma, design systems, and user research methodologies.\n",
    "Delivered responsive prototypes, A/B tests, and UX writing standards.\n",
    "Passionate about accessibility, product strategy, and mentoring junior designers.\n",
    "\n",
    "---\n",
    "\n",
    "### 📊 Data Scientist\n",
    "\n",
    "Data Scientist with 6+ years experience in predictive modeling and analytics.\n",
    "Specialized in Python, pandas, scikit-learn, and PyTorch.\n",
    "Built real-time dashboards, classification models, and business intelligence workflows.\n",
    "Worked with stakeholders to translate data into product insights.\n",
    "Strong communication, experimentation, and statistical modeling background.\n"
   ]
  },
  {
   "cell_type": "code",
   "execution_count": 2,
   "id": "1ccc2f2a",
   "metadata": {
    "execution": {
     "iopub.execute_input": "2025-04-09T01:52:09.871848Z",
     "iopub.status.busy": "2025-04-09T01:52:09.871444Z",
     "iopub.status.idle": "2025-04-09T01:52:09.881492Z",
     "shell.execute_reply": "2025-04-09T01:52:09.880683Z"
    },
    "papermill": {
     "duration": 0.014073,
     "end_time": "2025-04-09T01:52:09.883203",
     "exception": false,
     "start_time": "2025-04-09T01:52:09.869130",
     "status": "completed"
    },
    "tags": []
   },
   "outputs": [
    {
     "data": {
      "text/html": [
       "<h4>📄 ⚠️ You haven't pasted any resume yet. The default example will be used.</h4>"
      ],
      "text/plain": [
       "<IPython.core.display.HTML object>"
      ]
     },
     "metadata": {},
     "output_type": "display_data"
    },
    {
     "data": {
      "application/vnd.jupyter.widget-view+json": {
       "model_id": "e96453a4bb2d42ec9d4ea7640012c9df",
       "version_major": 2,
       "version_minor": 0
      },
      "text/plain": [
       "Textarea(value='', description='Resume:', layout=Layout(height='200px', width='100%'), placeholder='Paste your…"
      ]
     },
     "metadata": {},
     "output_type": "display_data"
    }
   ],
   "source": [
    "from IPython.display import display, HTML\n",
    "import ipywidgets as widgets\n",
    "\n",
    "cv_input = widgets.Textarea(\n",
    "    value=\"\",\n",
    "    placeholder=\"Paste your resume here...\",\n",
    "    description='Resume:',\n",
    "    layout=widgets.Layout(width='100%', height='200px'),\n",
    "    style={'description_width': 'initial'}\n",
    ")\n",
    "\n",
    "display(HTML(\"<h4>📄 ⚠️ You haven't pasted any resume yet. The default example will be used.</h4>\"))\n",
    "display(cv_input)"
   ]
  },
  {
   "cell_type": "code",
   "execution_count": 3,
   "id": "30cd367d",
   "metadata": {
    "execution": {
     "iopub.execute_input": "2025-04-09T01:52:09.888655Z",
     "iopub.status.busy": "2025-04-09T01:52:09.888343Z",
     "iopub.status.idle": "2025-04-09T01:52:17.772485Z",
     "shell.execute_reply": "2025-04-09T01:52:17.771765Z"
    },
    "papermill": {
     "duration": 7.888101,
     "end_time": "2025-04-09T01:52:17.773737",
     "exception": false,
     "start_time": "2025-04-09T01:52:09.885636",
     "status": "completed"
    },
    "tags": []
   },
   "outputs": [
    {
     "data": {
      "text/html": [
       "<p style='color:orange; font-weight:bold;'>⚠️ Resume input is empty. Using default sample resume.</p>"
      ],
      "text/plain": [
       "<IPython.core.display.HTML object>"
      ]
     },
     "metadata": {},
     "output_type": "display_data"
    },
    {
     "data": {
      "text/markdown": [
       "**🌐 Top Matches:**\n",
       "```json\n",
       "[\n",
       "  {\n",
       "    \"title\": \"Engineering Manager\",\n",
       "    \"why_match\": \"Combines strong technical skills with leadership experience, fitting the profile's 'leadership_experience' and senior level.\",\n",
       "    \"suggested_next_skills\": [\n",
       "      \"Performance management\",\n",
       "      \"Conflict resolution\",\n",
       "      \"Budgeting\",\n",
       "      \"Strategic planning\"\n",
       "    ]\n",
       "  },\n",
       "  {\n",
       "    \"title\": \"Cloud Architect\",\n",
       "    \"why_match\": \"Leverages the profile's expertise in Kubernetes, Docker, and GCP to design and implement cloud solutions.\",\n",
       "    \"suggested_next_skills\": [\n",
       "      \"Terraform/IaC\",\n",
       "      \"Security engineering (cloud)\",\n",
       "      \"Advanced networking (cloud)\",\n",
       "      \"Cost optimization (cloud)\"\n",
       "    ]\n",
       "  },\n",
       "  {\n",
       "    \"title\": \"Machine Learning Engineer\",\n",
       "    \"why_match\": \"Aligns with the profile's interest in AI/ML, leveraging Python and potentially other listed technologies for model development and deployment.\",\n",
       "    \"suggested_next_skills\": [\n",
       "      \"TensorFlow/PyTorch\",\n",
       "      \"MLOps\",\n",
       "      \"Statistical modeling\",\n",
       "      \"Deep learning\"\n",
       "    ]\n",
       "  }\n",
       "]\n",
       "```"
      ],
      "text/plain": [
       "<IPython.core.display.Markdown object>"
      ]
     },
     "execution_count": 3,
     "metadata": {},
     "output_type": "execute_result"
    }
   ],
   "source": [
    "# Default resume (used only if input is empty)\n",
    "sample_resume = \"\"\"\n",
    "Senior Software Engineer with 6+ years experience in backend development using Python, Go, and Java.\n",
    "Led a team of 4 engineers. Built scalable APIs, integrated third-party services, and designed microservices architecture.\n",
    "Experience with Kubernetes, Docker, GCP, PostgreSQL, Redis.\n",
    "Interest in AI/ML and product management.\n",
    "\"\"\"\n",
    "\n",
    "# Use resume from input (cv_input is assumed to be defined in a previous cell)\n",
    "resume = cv_input.value.strip()\n",
    "if not resume:\n",
    "    display(HTML(\"<p style='color:orange; font-weight:bold;'>⚠️ Resume input is empty. Using default sample resume.</p>\"))\n",
    "    resume = sample_resume\n",
    "\n",
    "# STEP 1 – Extract structured profile\n",
    "profile_prompt = f\"\"\"\n",
    "You are a resume analyst.\n",
    "Given the following resume, extract structured fields in JSON:\n",
    "- years_experience: integer\n",
    "- primary_stack: list of technologies or frameworks\n",
    "- leadership_experience: boolean\n",
    "- interests: list of areas\n",
    "- career_level: entry / mid / senior\n",
    "\n",
    "Resume:\n",
    "{resume}\n",
    "\"\"\"\n",
    "profile = model.generate_content(profile_prompt).text\n",
    "Markdown(\"**📄 Extracted Profile:**\\n\" + profile)\n",
    "\n",
    "# STEP 2 – Suggest career paths\n",
    "career_prompt = f\"\"\"\n",
    "Given the profile:\n",
    "{profile}\n",
    "\n",
    "Suggest at least 5 realistic or aspirational career paths.\n",
    "Return a list of job titles with one-line descriptions.\n",
    "\"\"\"\n",
    "career_suggestions = model.generate_content(career_prompt).text\n",
    "Markdown(\"**🔎 Career Suggestions:**\\n\" + career_suggestions)\n",
    "\n",
    "# STEP 3 – Match top roles\n",
    "match_prompt = f\"\"\"\n",
    "Based on this profile:\n",
    "{profile}\n",
    "\n",
    "And these career paths:\n",
    "{career_suggestions}\n",
    "\n",
    "Return a JSON array with 3 top recommended roles with:\n",
    "- title\n",
    "- why_match (1 sentence)\n",
    "- suggested_next_skills (list)\n",
    "\"\"\"\n",
    "match = model.generate_content(match_prompt).text\n",
    "Markdown(\"**🌐 Top Matches:**\\n\" + match)"
   ]
  },
  {
   "cell_type": "markdown",
   "id": "491d802a",
   "metadata": {
    "papermill": {
     "duration": 0.002115,
     "end_time": "2025-04-09T01:52:17.778310",
     "exception": false,
     "start_time": "2025-04-09T01:52:17.776195",
     "status": "completed"
    },
    "tags": []
   },
   "source": [
    "## ✅ GenAI Capabilities Demonstrated\n",
    "\n",
    "This Capstone project leverages the following Generative AI capabilities, as required:\n",
    "\n",
    "| Capability                         | Description                                                                 |\n",
    "|------------------------------------|-----------------------------------------------------------------------------|\n",
    "| **Structured output / JSON**       | The model extracts a structured profile from a plain-text resume in JSON format. |\n",
    "| **Few-shot prompting**             | Prompts include explicit schema and instructions to control the output format and content. |\n",
    "| **Gen AI evaluation / reasoning**  | The model compares the user's profile to suggested career paths and justifies the best matches. |\n",
    "\n",
    "These capabilities are combined to simulate the work of an intelligent career advisor, powered by LLMs."
   ]
  }
 ],
 "metadata": {
  "kaggle": {
   "accelerator": "none",
   "dataSources": [],
   "dockerImageVersionId": 30918,
   "isGpuEnabled": false,
   "isInternetEnabled": true,
   "language": "python",
   "sourceType": "notebook"
  },
  "kernelspec": {
   "display_name": "Python 3",
   "language": "python",
   "name": "python3"
  },
  "language_info": {
   "codemirror_mode": {
    "name": "ipython",
    "version": 3
   },
   "file_extension": ".py",
   "mimetype": "text/x-python",
   "name": "python",
   "nbconvert_exporter": "python",
   "pygments_lexer": "ipython3",
   "version": "3.10.12"
  },
  "papermill": {
   "default_parameters": {},
   "duration": 36.471592,
   "end_time": "2025-04-09T01:52:21.063600",
   "environment_variables": {},
   "exception": null,
   "input_path": "__notebook__.ipynb",
   "output_path": "__notebook__.ipynb",
   "parameters": {},
   "start_time": "2025-04-09T01:51:44.592008",
   "version": "2.6.0"
  },
  "widgets": {
   "application/vnd.jupyter.widget-state+json": {
    "state": {
     "7e4d6d0e603e4ed784bd6404aeef343a": {
      "model_module": "@jupyter-widgets/controls",
      "model_module_version": "2.0.0",
      "model_name": "TextStyleModel",
      "state": {
       "_model_module": "@jupyter-widgets/controls",
       "_model_module_version": "2.0.0",
       "_model_name": "TextStyleModel",
       "_view_count": null,
       "_view_module": "@jupyter-widgets/base",
       "_view_module_version": "2.0.0",
       "_view_name": "StyleView",
       "background": null,
       "description_width": "initial",
       "font_size": null,
       "text_color": null
      }
     },
     "afbd676017c3404687c14072eba10583": {
      "model_module": "@jupyter-widgets/base",
      "model_module_version": "2.0.0",
      "model_name": "LayoutModel",
      "state": {
       "_model_module": "@jupyter-widgets/base",
       "_model_module_version": "2.0.0",
       "_model_name": "LayoutModel",
       "_view_count": null,
       "_view_module": "@jupyter-widgets/base",
       "_view_module_version": "2.0.0",
       "_view_name": "LayoutView",
       "align_content": null,
       "align_items": null,
       "align_self": null,
       "border_bottom": null,
       "border_left": null,
       "border_right": null,
       "border_top": null,
       "bottom": null,
       "display": null,
       "flex": null,
       "flex_flow": null,
       "grid_area": null,
       "grid_auto_columns": null,
       "grid_auto_flow": null,
       "grid_auto_rows": null,
       "grid_column": null,
       "grid_gap": null,
       "grid_row": null,
       "grid_template_areas": null,
       "grid_template_columns": null,
       "grid_template_rows": null,
       "height": "200px",
       "justify_content": null,
       "justify_items": null,
       "left": null,
       "margin": null,
       "max_height": null,
       "max_width": null,
       "min_height": null,
       "min_width": null,
       "object_fit": null,
       "object_position": null,
       "order": null,
       "overflow": null,
       "padding": null,
       "right": null,
       "top": null,
       "visibility": null,
       "width": "100%"
      }
     },
     "e96453a4bb2d42ec9d4ea7640012c9df": {
      "model_module": "@jupyter-widgets/controls",
      "model_module_version": "2.0.0",
      "model_name": "TextareaModel",
      "state": {
       "_dom_classes": [],
       "_model_module": "@jupyter-widgets/controls",
       "_model_module_version": "2.0.0",
       "_model_name": "TextareaModel",
       "_view_count": null,
       "_view_module": "@jupyter-widgets/controls",
       "_view_module_version": "2.0.0",
       "_view_name": "TextareaView",
       "continuous_update": true,
       "description": "Resume:",
       "description_allow_html": false,
       "disabled": false,
       "layout": "IPY_MODEL_afbd676017c3404687c14072eba10583",
       "placeholder": "Paste your resume here...",
       "rows": null,
       "style": "IPY_MODEL_7e4d6d0e603e4ed784bd6404aeef343a",
       "tabbable": null,
       "tooltip": null,
       "value": ""
      }
     }
    },
    "version_major": 2,
    "version_minor": 0
   }
  }
 },
 "nbformat": 4,
 "nbformat_minor": 5
}
